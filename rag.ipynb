{
 "cells": [
  {
   "cell_type": "markdown",
   "metadata": {},
   "source": [
    "## Initializing the Local Model"
   ]
  },
  {
   "cell_type": "code",
   "execution_count": 2,
   "metadata": {},
   "outputs": [],
   "source": [
    "from langchain_community.llms import Ollama \n",
    "llm = Ollama(model=\"llama3\", temperature = 0)"
   ]
  },
  {
   "cell_type": "code",
   "execution_count": 3,
   "metadata": {},
   "outputs": [
    {
     "data": {
      "text/plain": [
       "'LangGraph is a graph-based language model that represents languages as graphs, where nodes represent words or subwords and edges represent relationships between them. The goal of LangGraph is to capture the complex structure and patterns in natural language data, such as syntax, semantics, and pragmatics.\\n\\nIn traditional language models, text is typically represented as a sequence of tokens (e.g., words or characters), which can be processed using recurrent neural networks (RNNs) or transformers. However, these models may not fully capture the intricate relationships between words in a sentence or document.\\n\\nLangGraph addresses this limitation by representing languages as graphs, where each node corresponds to a word or subword, and edges represent various relationships between them, such as:\\n\\n1. Syntactic dependencies: The graph captures the hierarchical structure of sentences, including subject-verb-object relationships.\\n2. Semantic relationships: Edges can represent semantic relationships like synonymy, hyponymy, meronymy, and other types of semantic associations.\\n3. Pragmatic relationships: LangGraph can also capture pragmatic relationships, such as coreference, anaphora, and ellipsis.\\n\\nBy modeling languages as graphs, LangGraph enables the analysis of complex linguistic phenomena, such as:\\n\\n1. Sentence structure and syntax\\n2. Semantic roles and argument structures\\n3. Coreference and anaphoric dependencies\\n4. Pragmatic inferences and implicatures\\n\\nLangGraph has potential applications in various areas, including:\\n\\n1. Natural Language Processing (NLP) tasks like text classification, sentiment analysis, and question answering.\\n2. Machine translation and multilingual processing.\\n3. Information retrieval and search engines.\\n4. Human-computer interaction and dialogue systems.\\n\\nOverall, LangGraph offers a powerful framework for representing languages as complex networks of relationships, enabling more accurate and nuanced understanding of human language.'"
      ]
     },
     "execution_count": 3,
     "metadata": {},
     "output_type": "execute_result"
    }
   ],
   "source": [
    "llm.invoke(\"What is LangGraph?\")"
   ]
  },
  {
   "cell_type": "markdown",
   "metadata": {},
   "source": [
    "## Indexing: Load"
   ]
  },
  {
   "cell_type": "code",
   "execution_count": 28,
   "metadata": {},
   "outputs": [],
   "source": [
    "from langchain_community.document_loaders import WebBaseLoader \n",
    "\n",
    "loader = WebBaseLoader(\n",
    "    web_path=(\"https://isqua.org/blog/covid-19/covid-19-blogs.html\"),\n",
    ")\n",
    "docs= loader.load()"
   ]
  },
  {
   "cell_type": "code",
   "execution_count": 29,
   "metadata": {},
   "outputs": [
    {
     "data": {
      "text/plain": [
       "\"\\n\\n\\n\\n\\n\\n\\n\\n\\n\\n\\n\\n\\n\\nCOVID-19 Blogs\\n\\n\\n\\n\\n\\n\\n\\n\\n\\n\\n\\n\\n\\n\\n\\n\\n\\n\\n\\n\\n\\n\\n\\n\\n\\n\\n\\n\\n\\n\\n\\n\\n\\n\\n\\nHomeScholarshipsLucian Leape Patient Safety FellowshipAboutPEOPLEAWARDSPARTNERSResources & BlogBLOGRESOURCESIJQHC JOURNALIJCOMS JOURNALIKAS DATAContact UsPARTNERSHIP WITH PATIENTS\\n\\n\\n\\n\\n\\n\\n\\n\\nToggle navigation\\n\\n\\n\\n\\n \\n\\n\\nMEMBERSHIPINSTITUTIONAL MEMBERSIJQHC JOURNALIJCOMS JOURNALEVENTSISTANBUL 2024 INTERNATIONAL CONFERENCECONFERENCE PROGRAMMEPLENARY SPEAKERSDELEGATE INFORMATIONEDUCATIONAL SITE VISITSPRE & POST CONFERENCE TOURSPAST CONFERENCESUPCOMING EVENTS & CONFERENCESWORLD PATIENT SAFETY DAYWPSD 2023EXTERNAL EVALUATION - IEEAEDUCATIONFellowship ProgrammeMiddle East Fellowship Specialist CertificatesIntroduction to QI & PSFellowship AmbassadorsNETWORKSCOMMUNITIES OF PRACTICELatin AmericaFrench SpeakingISQua ACADEMYISQua EXPERT\\n\\n\\n\\n\\n\\nHomeScholarshipsLucian Leape Patient Safety FellowshipAboutPEOPLEAWARDSPARTNERSResources & BlogBLOGRESOURCESIJQHC JOURNALIJCOMS JOURNALIKAS DATAContact UsPARTNERSHIP WITH PATIENTS \\n\\n\\n\\n\\n\\n\\nJOIN ISQuaLOGIN \\n\\n\\n\\n\\n\\n\\nMEMBERSHIPINSTITUTIONAL MEMBERSIJQHC JOURNALIJCOMS JOURNALEVENTSISTANBUL 2024 INTERNATIONAL CONFERENCECONFERENCE PROGRAMMEPLENARY SPEAKERSDELEGATE INFORMATIONEDUCATIONAL SITE VISITSPRE &amp; POST CONFERENCE TOURSPAST CONFERENCESUPCOMING EVENTS &amp; CONFERENCESWORLD PATIENT SAFETY DAYWPSD 2022WORLD PATIENT SAFETY DAY 2019WORLD PATIENT SAFETY DAY 2021WORLD PATIENT SAFETY DAY 2020WPSD 2023EXTERNAL EVALUATION - IEEAEDUCATIONFellowship ProgrammeFellowship FAQsMiddle East Fellowship Specialist CertificatesIntroduction to QI &amp; PSFellowship AmbassadorsNETWORKSCOMMUNITIES OF PRACTICELatin AmericaFrench SpeakingISQua ACADEMYISQua EXPERT \\n\\n\\n\\n\\n\\n\\n\\n\\n\\n\\n\\n\\nJOIN ISQuaLOGIN\\nISQua\\nHomeHomeAboutAboutAboutAboutPeoplePeopleAwardsAwardsPartnersPartnersRESOURCES & BLOGRESOURCES & BLOGRESOURCESRESOURCESBlogBlogResourcesResourcesJournalJournalIKAS DATAIKAS DATAContact UsContact UsMembershipMembershipMembershipMembershipJournalJournalEventsEventsUpcoming Events & ConferencesUpcoming Events & ConferencesPast ConferencesPast ConferencesEventsEventsISTANBUL 2024 INTERNATIONAL CONFERENCEISTANBUL 2024 INTERNATIONAL CONFERENCECONFERENCE SPEAKERSCONFERENCE SPEAKERSPRE & POST CONFERENCE TOURSPRE & POST CONFERENCE TOURSPRE-CONFERENCE SESSIONSPRE-CONFERENCE SESSIONSDELEGATE INFORMATIONDELEGATE INFORMATIONEXTERNAL EVALUATION - IEEAEXTERNAL EVALUATION - IEEANetworksNetworksNetworksNetworksISQua ExpertsISQua ExpertsCommunities Of PracticeCommunities Of PracticeQI NetworkQI NetworkAcademy MembersAcademy MembersPARTNERSHIP WITH PATIENTSPARTNERSHIP WITH PATIENTSJoin ISQuaJoin ISQuaLoginLoginScholarshipScholarshipLucian Leape Patient Safety FellowshipLucian Leape Patient Safety FellowshipEducationEducationEducationEducationFellowship ProgrammeFellowship ProgrammeMiddle East Fellowship Middle East Fellowship Specialist CertificatesSpecialist CertificatesSpecialist CertificatesSpecialist CertificatesIntroduction to QI and PSIntroduction to QI and PSFellowship AmbassadorsFellowship Ambassadors\\n\\n\\n\\n\\n\\n\\n\\n\\n\\nOffering the latest news in health care quality and safety, the ISQua blog also features guest posts from the best and brightest in the industry.\\n\\n\\n\\n\\n\\n\\n\\n\\n\\n\\n\\n\\n\\n\\n\\n\\n\\n\\n\\n\\nCategories\\n\\nBlogNewsEventsAwardsEmerging Leader JournalLatestVirtual EventsLive EventsRecorded EventsConference - Kuala LumpurConference - Cape TownConference - FlorenceWorld Patient Safety Day 2019World Patient Safety Day 2020World Patient Safety Day BlogsCOVID-19COVID-19 Live WebinarsCOVID-19 RecordingsCOVID-19 BlogsCOVID-19 ResourcesWorld Patient Safety Day 2021\\n\\n\\nAuthors\\n\\n\\n\\n\\n                ISQua                            \\n\\n\\n\\n                Sinead McArdle                            \\n\\n\\n\\n                Sinead McArdle                            \\n\\n\\n\\n\\n\\nArchive\\n\\n\\n\\n\\n                May 2024                 (3)            \\n\\n\\n\\n                April 2024                 (2)            \\n\\n\\n\\n                March 2024                 (1)            \\n\\n\\n\\n                January 2024                 (4)            \\n\\n\\n\\n                December 2023                 (1)            \\n\\n\\n\\n                November 2023                 (2)            \\n\\n\\n\\n                October 2023                 (1)            \\n\\n\\n\\n                September 2023                 (4)            \\n\\n\\n\\n                August 2023                 (2)            \\n\\n\\n\\n                June 2023                 (4)            \\n\\n\\n\\n                May 2023                 (4)            \\n\\n\\n\\n                April 2023                 (2)            \\n\\n\\n\\n\\n\\n\\n\\n\\n\\n\\n\\nSubscribe to this RSS feed\\n\\n\\n\\n\\n\\n\\n\\n\\n\\n\\nCOVID-19 Blogs (16)\\n\\n\\n\\n\\n\\n\\n\\n\\n\\n\\n\\n\\n\\n\\n\\n\\n\\n\\n\\n\\n\\n\\n\\n\\n\\n\\n\\n\\n\\n\\n\\n\\n\\t  \\t\\tCOVID-19 Commentary from India: Lockdown Saga\\t  \\t\\n\\n\\n\\n\\t\\t\\tBy\\n\\t\\t\\t\\t\\t\\tDr B.K. Rana, ISQua Board Member\\n\\n|\\n\\n\\n\\t\\t    Jun. 12, 2020\\t\\n\\t\\t\\n|\\n\\n\\n\\n                                                                    0 \\n\\n\\n\\n\\n\\n\\nIndia is a country of countries. Don’t get surprised. It is made of 28 States and 8 Union Territories, a total of 36 entities. Each of these are different in culture, culinary, language, outfit, style of living, weather and health systems. Each one of these are like different countries. However, each one is tightly bonded with each other for several reasons. We truly represent ‘unity within diversity’. COVID-19 has perhaps further brought all of them together to fight with this deadly disease.\\n\\n\\n\\n\\n\\n\\n\\n\\n\\n\\n\\n \\n\\n\\n\\n\\n\\t\\t\\tREAD MORE\\n\\t\\t\\n\\n\\n\\n\\n\\n\\n\\n\\nPublished in\\nCOVID-19 Blogs\\n\\n\\n\\nTagged under\\n\\nCOVID19\\nLockdown\\nIndia\\nQAI\\n\\n\\n\\n\\n\\n\\n\\n\\n\\n\\n\\n\\n\\n\\n\\n\\n\\n\\n\\n\\n\\n\\n\\n\\n\\n\\n\\n\\n\\n\\n\\n\\n\\n\\n\\n\\n\\n\\t  \\t\\tAccreditation: How it supported healthcare organizations’ readiness for COVID-19!\\t  \\t\\n\\n\\n\\n\\t\\t\\tBy\\n\\t\\t\\t\\t\\t\\tSalma Jaouni Araj, CEO, HCAC\\n\\n|\\n\\n\\n\\t\\t    May. 29, 2020\\t\\n\\t\\t\\n|\\n\\n\\n\\n                                                                    0 \\n\\n\\n\\n\\n\\n\\nIn a world where data fluctuates between showing the impact of accreditation on healthcare institutions and negating it, we, at the Health Care Accreditation Council (HCAC), were intrigued to look into whether accredited healthcare institutions in Jordan were more ready to deal with the requirements of COVID-19 or not?\\n\\n\\n\\n\\n\\n\\n\\n\\n\\n\\n\\n \\n\\n\\n\\n\\n\\t\\t\\tREAD MORE\\n\\t\\t\\n\\n\\n\\n\\n\\n\\n\\n\\nPublished in\\nCOVID-19 Blogs\\n\\n\\n\\nTagged under\\n\\nAccreditation\\nExternal Evaluation\\nHCAC\\nCOVID19\\n\\n\\n\\n\\n\\n\\n\\n\\n\\n\\n\\n\\n\\n\\n\\n\\n\\n\\n\\n\\n\\n\\n\\n\\n\\n\\n\\n\\n\\n\\n\\n\\n\\n\\n\\n\\n\\n\\n\\n\\n\\n\\t  \\t\\tResilience : landmarks and references\\t  \\t\\n\\n\\n\\n\\t\\t\\tBy\\n\\t\\t\\t\\t\\t\\tBruno Lucet, ISQua Board Member\\n\\n|\\n\\n\\n\\t\\t    May. 14, 2020\\t\\n\\t\\t\\n|\\n\\n\\n\\n                                                                    0 \\n\\n\\n\\n\\n\\n\\nIn the current context of the pandemic that we are currently experiencing, it seemed interesting to me, not to comment on current events, but to offer some landmarks and references on the concept of resilience.\\nAccording to Boris Cyrulnik, French doctor, neurologist and psychiatrist, resilience is the art of sailing torrents; it is also the ability to live, to succeed, to develop despite adversity.\\n\\n\\n\\n\\n\\n\\n\\n\\n\\n\\n\\n \\n\\n\\n\\n\\n\\t\\t\\tREAD MORE\\n\\t\\t\\n\\n\\n\\n\\n\\n\\n\\n\\nPublished in\\nCOVID-19 Blogs\\n\\n\\n\\nTagged under\\n\\nResilience\\nCOVID19\\nQuality\\npersoncentred\\nperson centred care\\n\\n\\n\\n\\n\\n\\n\\n\\n\\n\\n\\n\\n\\n\\n\\n\\n\\n\\n\\n\\n\\n\\n\\n\\n\\n\\n\\n\\n\\n\\n\\n\\n\\n\\n\\n\\n\\t  \\t\\tThe Digital Aid Project Toolset\\t  \\t\\n\\n\\n\\n\\t\\t\\tBy\\n\\t\\t\\t\\t\\t\\tAnca M. Sarbu, MSPH\\n\\n|\\n\\n\\n\\t\\t    May. 8, 2020\\t\\n\\t\\t\\n|\\n\\n\\n\\n                                                                    0 \\n\\n\\n\\n\\n\\n\\nThe challenging time we are all facing during the COVID-19 pandemic is incontestable. During the last few weeks, people and communities have shown solidarity worldwide like never before, and the human, social and moral values seem to have gotten back on the right track as everybody realised that we are in this fight together.\\n\\n\\n\\n\\n\\n\\n\\n\\n\\n\\n\\n \\n\\n\\n\\n\\n\\t\\t\\tREAD MORE\\n\\t\\t\\n\\n\\n\\n\\n\\n\\n\\n\\nPublished in\\nCOVID-19 Blogs\\n\\n\\n\\nTagged under\\n\\nDigital\\nCOVID19\\n\\n\\n\\n\\n\\n\\n\\n\\n\\n\\n\\n\\n\\n\\n\\n\\n\\n\\n\\n\\n\\n\\n\\n\\n\\n\\n\\n\\n\\n\\n\\n\\n\\n\\n\\n\\n\\n\\t  \\t\\tPakistan Meeting the Challenge of COVID 19\\t  \\t\\n\\n\\n\\n\\t\\t\\tBy\\n\\t\\t\\t\\t\\t\\tDr Hussain Jafri, Fatima Jinnah Medical University Lahore,Pakistan \\n\\n|\\n\\n\\n\\t\\t    May. 7, 2020\\t\\n\\t\\t\\n|\\n\\n\\n\\n                                                                    0 \\n\\n\\n\\n\\n\\n\\nGlobally, corona virus (COVID19) pandemic has become the most significant crisis to challenge the health, economy and the wellbeing of the humans affecting nearly all the countries. The world governments are taking radical mitigation measures to counter the health impact of the virus, which on the other hand has severe economic and financial consequences on the lives of the people around the world. Thus, the COVID-19 has become more than a health crisis for all countries with critical social, economic and political consequences.\\n\\n\\n\\n\\n\\n\\n\\n\\n\\n\\n\\n \\n\\n\\n\\n\\n\\t\\t\\tREAD MORE\\n\\t\\t\\n\\n\\n\\n\\n\\n\\n\\n\\nPublished in\\nCOVID-19 Blogs\\n\\n\\n\\nTagged under\\n\\nCOVID19\\nPakistan\\n\\n\\n\\n\\n\\n\\n\\n\\n\\n\\n\\n\\n\\n\\n\\n\\n\\n\\n\\n\\n\\n\\n\\n\\n\\n\\n\\n\\n\\n\\n\\n\\n\\n\\n\\n\\n\\t  \\t\\tSupporting adaptive healthcare – people make the difference\\t  \\t\\n\\n\\n\\n\\t\\t\\tBy\\n\\t\\t\\t\\t\\t\\tEllen Joan van Vliet, PhD\\n\\n|\\n\\n\\n\\t\\t    May. 1, 2020\\t\\n\\t\\t\\n|\\n\\n\\n\\n                                                                    0 \\n\\n\\n\\n\\n\\n\\nIn the past few weeks healthcare professionals have been fully focussed caring for enormous numbers of people infected with COVID-19. They did an amazing job. Not in the least because healthcare professionals and leaders have been using continues improvement as part of their accreditation program for many years.\\n\\n\\n\\n\\n\\n\\n\\n\\n\\n\\n\\n \\n\\n\\n\\n\\n\\t\\t\\tREAD MORE\\n\\t\\t\\n\\n\\n\\n\\n\\n\\n\\n\\nPublished in\\nCOVID-19 Blogs\\n\\n\\n\\nTagged under\\n\\nCOVID19\\nNIAZ\\nAdaptive Healthcare\\nsupport\\n\\n\\n\\n\\n\\n\\n\\n\\n\\n\\n\\n\\n\\n\\n\\n\\n\\n\\n\\n\\n\\n\\n\\n\\n\\n\\n\\n\\n\\n\\n\\n\\n\\n\\n\\n\\n\\n\\n\\n\\n\\n\\t  \\t\\tClimate change, environmental sustainability and health care quality\\t  \\t\\n\\n\\n\\n\\t\\t\\tBy\\n\\t\\t\\t\\t\\t\\tHans C Ossebaard, Peter Lachman\\n\\n|\\n\\n\\n\\t\\t    Apr. 30, 2020\\t\\n\\t\\t\\n|\\n\\n\\n\\n                                                                    0 \\n\\n\\n\\n\\n\\n\\nThe challenges for health care continue to grow and in the 21st century healthcare policymakers and providers will need to respond to the developing impact of global warming and the environmental impact of healthcare service delivery. This cannot be viewed apart from the current Coronavirus disease (COVID-19) pandemic, which is likely to be linked to the climate crisis.\\n\\n\\n\\n\\n\\n\\n\\n\\n\\n\\n\\n \\n\\n\\n\\n\\n\\t\\t\\tREAD MORE\\n\\t\\t\\n\\n\\n\\n\\n\\n\\n\\n\\nPublished in\\nCOVID-19 Blogs\\n\\n\\n\\nTagged under\\n\\nClimate Change\\nSustainability\\nhealthcare quality\\nCOVID19\\n\\n\\n\\n\\n\\n\\n\\n\\n\\n\\n\\n\\n\\n\\n\\n\\n\\n\\n\\n\\n\\n\\n\\n\\n\\n\\n\\n\\n\\n\\n\\n\\n\\n\\n\\n\\n\\n\\t  \\t\\tLeading and Driving Change from Bedside to the Board during Covid-19\\t  \\t\\n\\n\\n\\n\\t\\t\\tBy\\n\\t\\t\\t\\t\\t\\tDr Pat O’Connor RN, RM, BSc, MBA, PhD, ISQua Expert\\n\\n|\\n\\n\\n\\t\\t    Apr. 30, 2020\\t\\n\\t\\t\\n|\\n\\n\\n\\n                                                                    0 \\n\\n\\n\\n\\n\\n\\nPicture the scene in full PPE, with limited opportunity to rest and reflect, how do we all learn and change in response the patients’ needs and the new environment when caring for Covid19 positive patients.\\xa0 Within, NHSScotland we are testing a system where change and improvement is actioned at every opportunity from the bedside to the board. In this blog I will share how that these processes are designed and driven by the front line.\\n\\n\\n\\n\\n\\n\\n\\n\\n\\n\\n\\n \\n\\n\\n\\n\\n\\t\\t\\tREAD MORE\\n\\t\\t\\n\\n\\n\\n\\n\\n\\n\\n\\nPublished in\\nCOVID-19 Blogs\\n\\n\\n\\nTagged under\\n\\nCOVID19\\nNHS Scotland\\n\\n\\n\\n\\n\\n\\n\\n\\n\\n\\n\\n\\n\\n\\n\\n\\n\\n\\n\\n\\n\\n\\n\\n\\n\\n\\n\\n\\n\\n\\n\\n\\n\\n\\n\\n\\n\\n\\t  \\t\\tPreparing to manage cases of COVID-19 in health facilities in low income countries – KEY MESSAGES\\t  \\t\\n\\n\\n\\n\\t\\t\\tBy\\n\\t\\t\\t\\t\\t\\tDr David Weakliam, Global Health Programme Director, Health Service Executive, Ireland\\n\\n|\\n\\n\\n\\t\\t    Apr. 22, 2020\\t\\n\\t\\t\\n|\\n\\n\\n\\n                                                                    0 \\n\\n\\n\\n\\n\\n\\nThis short document focuses on the response of health services and facilities to the expected spread of COVID-19 in sub-Saharan Africa. These countries face a real threat of health systems becoming overwhelmed, with dramatic increase in deaths from the outbreak and indirect deaths from vaccine-preventable and treatable conditions.\\n\\xa0\\nThe document draws on new WHO guidelines and seeks to assist decision makers by highlighting urgent and priority actions. The key messages reflect views of expert health professionals responding to the COVID-19 pandemic in Ireland and Europe and with wide experience of health systems and managing epidemics in Africa.\\n\\xa0\\nKey WHO Guidance documents for health services response to COVID-19\\n\\xa0\\n\\nOperational considerations for case management of COVID-19 in health facility and community\\nOperational guidance for maintaining essential health services during an outbreak\\xa0\\nInfection prevention and control during health care when COVID-19 is expected\\xa0\\nHospital readiness checklist for COVID-19\\xa0\\nClinical management of severe acute respiratory infection (SARI) when COVID-19 disease is suspected\\xa0\\n\\n\\xa0\\nImplementing a health service response to COVID-19 is just part of the wider national response to control the epidemic which involves a whole of government approach. The population measures are of utmost importance, including social/physical distancing measures, good hygiene practices and reducing transmission though testing and contacting tracing, where feasible.\\n\\xa0\\nCountries need to factor in the wider social and economic consequences of restrictive measures that affect people’s ability to move around and work. Public messaging should reach the whole population, emphasising hand washing, respiratory hygiene, physical distancing and the need to self-isolate if symptoms develop.\\n\\xa0\\nKEY MESSAGES for Health Service readiness and response\\n\\xa0\\n1. Health facility readiness\\na) There are three objectives: to manage COVID-19 patients; to maintain essential health services; and to protect the welfare of health care workers.\\nb) All health facilities should assess their response capacity and establish a plan to deal with a surge of severely ill patients.\\nc) Consider how to mobilise additional staff for surge capacity\\nd) Have clear plans for infection prevention and control (IPC) including WaSH facilities, environmental cleaning & disinfection.\\ne) Communicate plans and actions widely, including signage and posters.\\n\\xa0\\n2. Segregation of COVID-19 patients\\na) Separating COVID-19 patients from others is key. The ideal approach is to stream hospitals such that entire facilities are dedicated to COVID-19 (e.g. field hospitals); or else dedicate COVID-19 treatment areas within hospitals.\\nb) Establish effective patient flow at facilities including screening, triage and targeted referral of COVID-19 and non-COVID-19 cases.\\nc) Reduce transmission by isolating cases from other patients (or at least cohorting), and minimise the number of staff caring for each patient.\\n\\xa0\\n3. Care of COVID-19 patients\\na) Initiate IPC at point of entry to hospital. Immediately screen and isolate COVID-10 suspects from other patients. If illness is mild, immediately discharge for self-isolation at home.\\nb) Assess whether patients will benefit from admission or transfer from other facilities. Consider not admitting patients with respiratory failure if the hospital is not equipped. This is equally efficacious, more humane for the patient, and reduces the risk of spread of infection to staff and other patients.\\nc) Establish guidance for handling deceased patients.\\nd) Minimise presence of visitors and non-essential staff.\\n\\xa0\\n4. Infection prevention and control (IPC)\\na) The greatest risk of spread is by contact. Pay strict attention to hand hygiene, washing, respiratory etiquette and distancing measures. All staff should know about IPC and meticulously follow the WHO’s “5 Moments for Hand Hygiene”.\\nb) Ensure facilities have supplies of soap and running water.\\nc) Explore whether local ethanol producers (e.g. distilleries) could repurpose their facilities to make alcohol hand rubs following WHO formula.d. Manage supply and use of scarce PPE. Gloves, aprons and surgical masks mostly suffice. Don’t over-focus on PPE as adherence to other IPC measures mitigates most of the risk. Do not use PPE unless staff know how to use it properly, including putting on and taking off.\\n\\xa0\\n5. Maintain essential health services\\na) Identify essential services to be prioritised for continuity (more people died from malaria than Ebola in west Africa in 2014).\\nb) Redistribute health workforce capacity to support ongoing services.c. Maintain availability of essential medicines, equipment and supplies.\\n\\xa0\\n\\n\\xa0Author:\\xa0Dr David Weakliam, Global Health Programme Director, Health Service Executive\\n\\xa0\\nOriginally published 30 March 2020 for the HSE National Quality Improvement Team. Republished with permission from the author. \\n\\n\\n\\n\\n\\n\\n\\n\\n\\n\\n \\n\\n\\n\\n\\n\\t\\t\\tREAD MORE\\n\\t\\t\\n\\n\\n\\n\\n\\n\\n\\n\\nPublished in\\nCOVID-19 Blogs\\n\\n\\n\\nTagged under\\n\\nCOVID19\\nLIC\\nLMICs\\nHealth Facilities\\n\\n\\n\\n\\n\\n\\n\\n\\n\\n\\n\\n\\n\\n\\n\\n\\n\\n\\n\\n\\n\\n\\n\\n\\n\\n\\n\\n\\n\\n\\n\\n\\n\\n\\n\\n\\n\\n\\t  \\t\\tCOVID-19: The New Patient Journey\\t  \\t\\n\\n\\n\\n\\t\\t\\tBy\\n\\t\\t\\t\\t\\t\\tISQua\\n\\n|\\n\\n\\n\\t\\t    Apr. 9, 2020\\t\\n\\t\\t\\n|\\n\\n\\n\\n                                                                    0 \\n\\n\\n\\n\\n\\n\\nISQua's Brian Cahill, spoke with Dr Stephen Brennan, a GP based in Ireland, on how his General Practice has responded to the COVID-19 crisis; how the crisis has altered the patient journey in order to maintain good quality care, and how they are ensuring the safety of both staff and patients.\\n\\n\\n\\n\\n\\n\\n\\n\\n\\n\\n\\n \\n\\n\\n\\n\\n\\t\\t\\tREAD MORE\\n\\t\\t\\n\\n\\n\\n\\n\\n\\n\\n\\nPublished in\\nCOVID-19 Blogs\\n\\n\\n\\nTagged under\\n\\nCOVID19\\nPodcast\\nPatient Safety\\nPatient Journey\\n\\n\\n\\n\\n\\n\\n\\n\\n\\n\\n\\n\\n\\n\\n\\n\\n\\n\\n\\nMore...\\n\\n\\n\\n\\n\\n\\n\\n\\n\\n\\n\\n\\n\\n\\n\\n\\n\\n\\n\\n\\n\\n\\n\\t  \\t\\tCOVID-19: Patient Centered Care in COVID-19 Crisis in Viet Nam\\t  \\t\\n\\n\\n\\n\\t\\t\\tBy\\n\\t\\t\\t\\t\\t\\tDr Phan Thanh Phuc, Viet Nam\\n\\n|\\n\\n\\n\\t\\t    Apr. 9, 2020\\t\\n\\t\\t\\n|\\n\\n\\n\\n                                                                    0 \\n\\n\\n\\n\\n\\n\\nOn 22 January 2020, a 65-year-old Chinese man with a history of hypertension, type 2 diabetes, coronary heart disease for which a stent had been implanted, and lung cancer was admitted to the emergency department of Cho Ray Hospital, the referral hospital in Ho Chi Minh City, Viet Nam, for low-grade fever and fatigue.\\n\\n\\n\\n\\n\\n\\n\\n\\n\\n\\n\\n \\n\\n\\n\\n\\n\\t\\t\\tREAD MORE\\n\\t\\t\\n\\n\\n\\n\\n\\n\\n\\n\\nPublished in\\nCOVID-19 Blogs\\n\\n\\n\\nTagged under\\n\\nCOVID19\\nViet Nam\\nPatient Centred Care\\npersoncentred\\nperson centred care\\n\\n\\n\\n\\n\\n\\n\\n\\n\\n\\n\\n\\n\\n\\n\\n\\n\\n\\n\\n\\n\\n\\n\\n\\n\\n\\n\\n\\n\\n\\n\\n\\n\\n\\n\\n\\n\\n\\t  \\t\\tCOVID19 - Posts from the front line: Learn from this pandemic that primary care must be strengthened\\t  \\t\\n\\n\\n\\n\\t\\t\\tBy\\n\\t\\t\\t\\t\\t\\tPilar Astier Peña, Coordinator of the SEMFYC Patient Safety Working Group\\n\\n|\\n\\n\\n\\t\\t    Apr. 8, 2020\\t\\n\\t\\t\\n|\\n\\n\\n\\n                                                                    0 \\n\\n\\n\\n\\n\\n\\nThe coronavirus pandemic is challenging health systems and societies. The measures for restricting interpersonal contact that are being taken are aimed at flattening the COVID-19 infection curve, to prevent the health system from being overwhelmed by a sudden increase in the number of those infected and to continue to provide the best possible care for all patients.\\n\\n\\n\\n\\n\\n\\n\\n\\n\\n\\n\\n \\n\\n\\n\\n\\n\\t\\t\\tREAD MORE\\n\\t\\t\\n\\n\\n\\n\\n\\n\\n\\n\\nPublished in\\nCOVID-19 Blogs\\n\\n\\n\\nTagged under\\n\\nCOVID19\\nPrimary Health Care\\nPrimary care\\nPandemic\\n\\n\\n\\n\\n\\n\\n\\n\\n\\n\\n\\n\\n\\n\\n\\n\\n\\n\\n\\n\\n\\n\\n\\n\\n\\n\\n\\n\\n\\n\\n\\n\\n\\n\\n\\n\\n\\n\\t  \\t\\tThe unfinished Australian jigsaw puzzle - Prof Jeffrey Braithwaite\\t  \\t\\n\\n\\n\\n\\t\\t\\tBy\\n\\t\\t\\t\\t\\t\\tProf Jeffrey Braithwaite, ISQua President Elect\\n\\n|\\n\\n\\n\\t\\t    Apr. 3, 2020\\t\\n\\t\\t\\n|\\n\\n\\n\\n                                                                    0 \\n\\n\\n\\n\\n\\n\\nAs 1st April 2020 dawned in Australia, I realised it was April Fool’s day. But it wasn’t pranks from my children, friends or colleagues that I was immediately on alert about. It was what everyone does these days, in this era of the coronavirus.\\n\\n\\n\\n\\n\\n\\n\\n\\n\\n\\n\\n \\n\\n\\n\\n\\n\\t\\t\\tREAD MORE\\n\\t\\t\\n\\n\\n\\n\\n\\n\\n\\n\\nPublished in\\nCOVID-19 Blogs\\n\\n\\n\\nTagged under\\n\\nAustralia\\nCOVID19\\nJefferyBraithwaith\\nJeffrey Braithwaite\\n\\n\\n\\n\\n\\n\\n\\n\\n\\n\\n\\n\\n\\n\\n\\n\\n\\n\\n\\n\\n\\n\\n\\n\\n\\n\\n\\n\\n\\n\\n\\n\\n\\n\\n\\n\\n\\n\\t  \\t\\tCOVID19 - Posts from the front line: Safety comes first, especially in times of crisis\\t  \\t\\n\\n\\n\\n\\t\\t\\tBy\\n\\t\\t\\t\\t\\t\\tISQua\\n\\n|\\n\\n\\n\\t\\t    Mar. 31, 2020\\t\\n\\t\\t\\n|\\n\\n\\n\\n                                                                    0 \\n\\n\\n\\n\\n\\n\\nIn this very difficult moment, where we are trying our best to support our healthcare system, and especially the clinicians at the sharp end, we would like to share what we are experiencing and a bit of the knowledge related to the way we are facing this situation.\\n\\n\\n\\n\\n\\n\\n\\n\\n\\n\\n\\n \\n\\n\\n\\n\\n\\t\\t\\tREAD MORE\\n\\t\\t\\n\\n\\n\\n\\n\\n\\n\\n\\nPublished in\\nCOVID-19 Blogs\\n\\n\\n\\nTagged under\\n\\nCOVID19\\nItaly\\nhuman factors\\nPatient Safety\\n\\n\\n\\n\\n\\n\\n\\n\\n\\n\\n\\n\\n\\n\\n\\n\\n\\n\\n\\n\\n12 \\n\\t\\tPage 1 of 2\\t\\n\\n\\n\\n\\n\\n\\n\\n\\n\\n\\n\\n\\n\\nQUICK LINKS\\n\\nPublishing InformationDisclaimerPrivacy PolicySite MapCookie PolicyDóchas Code of Conduct\\n\\n\\n\\n\\n\\n\\n\\nStay Connected\\n\\n\\n\\n\\n\\n\\n\\n\\n\\n\\n \\n\\n\\n\\n\\n\\n\\n©2020 International Society For Quality In Health Care\\xa0- Registered Charity No 20072445 - Website by Ireland Website Design.\\n\\n\\n\\n\\n\\n\\n\\nPlease note this website uses cookies. Read more information here.\\n\\n\\n\\n\\n\\n\\n\\n\\n\\n\\n\\n\\n\\n\\n\\n\\n\\n\\n\\n\\n×\\nModal Header\\n\\n\\nSome text in the modal.\\n\\n\\nClose\\n\\n\""
      ]
     },
     "execution_count": 29,
     "metadata": {},
     "output_type": "execute_result"
    }
   ],
   "source": [
    "docs[0].page_content"
   ]
  },
  {
   "cell_type": "code",
   "execution_count": 30,
   "metadata": {},
   "outputs": [
    {
     "data": {
      "text/plain": [
       "20304"
      ]
     },
     "execution_count": 30,
     "metadata": {},
     "output_type": "execute_result"
    }
   ],
   "source": [
    "len(docs[0].page_content)"
   ]
  },
  {
   "cell_type": "markdown",
   "metadata": {},
   "source": [
    "## Indexing: Split"
   ]
  },
  {
   "cell_type": "code",
   "execution_count": 31,
   "metadata": {},
   "outputs": [],
   "source": [
    "from langchain_text_splitters import RecursiveCharacterTextSplitter\n",
    "\n",
    "text_splitter= RecursiveCharacterTextSplitter(\n",
    "    chunk_size = 1000,\n",
    "    chunk_overlap = 200,\n",
    "    add_start_index = True,\n",
    ")"
   ]
  },
  {
   "cell_type": "code",
   "execution_count": 32,
   "metadata": {},
   "outputs": [],
   "source": [
    "all_splits = text_splitter.split_documents(docs)"
   ]
  },
  {
   "cell_type": "code",
   "execution_count": 33,
   "metadata": {},
   "outputs": [
    {
     "data": {
      "text/plain": [
       "29"
      ]
     },
     "execution_count": 33,
     "metadata": {},
     "output_type": "execute_result"
    }
   ],
   "source": [
    "len(all_splits)"
   ]
  },
  {
   "cell_type": "code",
   "execution_count": 34,
   "metadata": {},
   "outputs": [
    {
     "data": {
      "text/plain": [
       "849"
      ]
     },
     "execution_count": 34,
     "metadata": {},
     "output_type": "execute_result"
    }
   ],
   "source": [
    "len(all_splits[1].page_content)"
   ]
  },
  {
   "cell_type": "markdown",
   "metadata": {},
   "source": [
    "## Indexing: Store"
   ]
  },
  {
   "cell_type": "code",
   "execution_count": 35,
   "metadata": {},
   "outputs": [],
   "source": [
    "from langchain_community.embeddings import OllamaEmbeddings\n",
    "\n",
    "embedding = OllamaEmbeddings(\n",
    "    model=\"nomic-embed-text\",\n",
    ")"
   ]
  },
  {
   "cell_type": "code",
   "execution_count": 36,
   "metadata": {},
   "outputs": [],
   "source": [
    "from langchain_community.vectorstores import Chroma\n",
    "\n",
    "vectorstore = Chroma.from_documents(\n",
    "    documents = all_splits,\n",
    "    embedding = embedding,\n",
    ")"
   ]
  },
  {
   "cell_type": "code",
   "execution_count": 37,
   "metadata": {},
   "outputs": [],
   "source": [
    "retriever = vectorstore.as_retriever(\n",
    "    search_type = \"similarity\",\n",
    "    search_kwargs = {\"k\":6}\n",
    ")"
   ]
  },
  {
   "cell_type": "code",
   "execution_count": 38,
   "metadata": {},
   "outputs": [
    {
     "data": {
      "text/plain": [
       "[Document(page_content='b) Establish effective patient flow at facilities including screening, triage and targeted referral of COVID-19 and non-COVID-19 cases.\\nc) Reduce transmission by isolating cases from other patients (or at least cohorting), and minimise the number of staff caring for each patient.\\n\\xa0\\n3. Care of COVID-19 patients\\na) Initiate IPC at point of entry to hospital. Immediately screen and isolate COVID-10 suspects from other patients. If illness is mild, immediately discharge for self-isolation at home.\\nb) Assess whether patients will benefit from admission or transfer from other facilities. Consider not admitting patients with respiratory failure if the hospital is not equipped. This is equally efficacious, more humane for the patient, and reduces the risk of spread of infection to staff and other patients.\\nc) Establish guidance for handling deceased patients.\\nd) Minimise presence of visitors and non-essential staff.\\n\\xa0\\n4. Infection prevention and control (IPC)', metadata={'language': 'en', 'source': 'https://isqua.org/blog/covid-19/covid-19-blogs.html', 'start_index': 13930, 'title': 'COVID-19 Blogs'}),\n",
       " Document(page_content='Operational considerations for case management of COVID-19 in health facility and community\\nOperational guidance for maintaining essential health services during an outbreak\\xa0\\nInfection prevention and control during health care when COVID-19 is expected\\xa0\\nHospital readiness checklist for COVID-19\\xa0\\nClinical management of severe acute respiratory infection (SARI) when COVID-19 disease is suspected', metadata={'language': 'en', 'source': 'https://isqua.org/blog/covid-19/covid-19-blogs.html', 'start_index': 11938, 'title': 'COVID-19 Blogs'}),\n",
       " Document(page_content='Implementing a health service response to COVID-19 is just part of the wider national response to control the epidemic which involves a whole of government approach. The population measures are of utmost importance, including social/physical distancing measures, good hygiene practices and reducing transmission though testing and contacting tracing, where feasible.\\n\\xa0\\nCountries need to factor in the wider social and economic consequences of restrictive measures that affect people’s ability to move around and work. Public messaging should reach the whole population, emphasising hand washing, respiratory hygiene, physical distancing and the need to self-isolate if symptoms develop.\\n\\xa0\\nKEY MESSAGES for Health Service readiness and response\\n\\xa0\\n1. Health facility readiness\\na) There are three objectives: to manage COVID-19 patients; to maintain essential health services; and to protect the welfare of health care workers.', metadata={'language': 'en', 'source': 'https://isqua.org/blog/covid-19/covid-19-blogs.html', 'start_index': 12339, 'title': 'COVID-19 Blogs'}),\n",
       " Document(page_content='1. Health facility readiness\\na) There are three objectives: to manage COVID-19 patients; to maintain essential health services; and to protect the welfare of health care workers.\\nb) All health facilities should assess their response capacity and establish a plan to deal with a surge of severely ill patients.\\nc) Consider how to mobilise additional staff for surge capacity\\nd) Have clear plans for infection prevention and control (IPC) including WaSH facilities, environmental cleaning & disinfection.\\ne) Communicate plans and actions widely, including signage and posters.\\n\\xa0\\n2. Segregation of COVID-19 patients\\na) Separating COVID-19 patients from others is key. The ideal approach is to stream hospitals such that entire facilities are dedicated to COVID-19 (e.g. field hospitals); or else dedicate COVID-19 treatment areas within hospitals.\\nb) Establish effective patient flow at facilities including screening, triage and targeted referral of COVID-19 and non-COVID-19 cases.', metadata={'language': 'en', 'source': 'https://isqua.org/blog/covid-19/covid-19-blogs.html', 'start_index': 13085, 'title': 'COVID-19 Blogs'}),\n",
       " Document(page_content='|\\n\\n\\n\\t\\t    Apr. 22, 2020\\t\\n\\t\\t\\n|\\n\\n\\n\\n                                                                    0 \\n\\n\\n\\n\\n\\n\\nThis short document focuses on the response of health services and facilities to the expected spread of COVID-19 in sub-Saharan Africa. These countries face a real threat of health systems becoming overwhelmed, with dramatic increase in deaths from the outbreak and indirect deaths from vaccine-preventable and treatable conditions.\\n\\xa0\\nThe document draws on new WHO guidelines and seeks to assist decision makers by highlighting urgent and priority actions. The key messages reflect views of expert health professionals responding to the COVID-19 pandemic in Ireland and Europe and with wide experience of health systems and managing epidemics in Africa.\\n\\xa0\\nKey WHO Guidance documents for health services response to COVID-19', metadata={'language': 'en', 'source': 'https://isqua.org/blog/covid-19/covid-19-blogs.html', 'start_index': 11101, 'title': 'COVID-19 Blogs'}),\n",
       " Document(page_content='READ MORE\\n\\t\\t\\n\\n\\n\\n\\n\\n\\n\\n\\nPublished in\\nCOVID-19 Blogs\\n\\n\\n\\nTagged under\\n\\nCOVID19\\nViet Nam\\nPatient Centred Care\\npersoncentred\\nperson centred care\\n\\n\\n\\n\\n\\n\\n\\n\\n\\n\\n\\n\\n\\n\\n\\n\\n\\n\\n\\n\\n\\n\\n\\n\\n\\n\\n\\n\\n\\n\\n\\n\\n\\n\\n\\n\\n\\n\\t  \\t\\tCOVID19 - Posts from the front line: Learn from this pandemic that primary care must be strengthened\\t  \\t\\n\\n\\n\\n\\t\\t\\tBy\\n\\t\\t\\t\\t\\t\\tPilar Astier Peña, Coordinator of the SEMFYC Patient Safety Working Group\\n\\n|\\n\\n\\n\\t\\t    Apr. 8, 2020\\t\\n\\t\\t\\n|\\n\\n\\n\\n                                                                    0 \\n\\n\\n\\n\\n\\n\\nThe coronavirus pandemic is challenging health systems and societies. The measures for restricting interpersonal contact that are being taken are aimed at flattening the COVID-19 infection curve, to prevent the health system from being overwhelmed by a sudden increase in the number of those infected and to continue to provide the best possible care for all patients.\\n\\n\\n\\n\\n\\n\\n\\n\\n\\n\\n\\n \\n\\n\\n\\n\\n\\t\\t\\tREAD MORE\\n\\t\\t\\n\\n\\n\\n\\n\\n\\n\\n\\nPublished in\\nCOVID-19 Blogs\\n\\n\\n\\nTagged under', metadata={'language': 'en', 'source': 'https://isqua.org/blog/covid-19/covid-19-blogs.html', 'start_index': 17517, 'title': 'COVID-19 Blogs'})]"
      ]
     },
     "execution_count": 38,
     "metadata": {},
     "output_type": "execute_result"
    }
   ],
   "source": [
    "retriever.get_relevant_documents(\n",
    "    \"How to handle covid 19?\"\n",
    ")"
   ]
  },
  {
   "cell_type": "markdown",
   "metadata": {},
   "source": [
    "## Retrieval and Generation: Generate"
   ]
  },
  {
   "cell_type": "code",
   "execution_count": 39,
   "metadata": {},
   "outputs": [],
   "source": [
    "from langchain import hub \n",
    "\n",
    "prompt= hub.pull(\"rlm/rag-prompt\")"
   ]
  },
  {
   "cell_type": "code",
   "execution_count": 40,
   "metadata": {},
   "outputs": [],
   "source": [
    "def format_docs(docs):\n",
    "    return \"\\n\\n\".join(doc.page_content for doc in docs)"
   ]
  },
  {
   "cell_type": "code",
   "execution_count": 41,
   "metadata": {},
   "outputs": [],
   "source": [
    "from langchain_core.runnables import RunnablePassthrough\n",
    "from langchain_core.output_parsers import StrOutputParser\n",
    "\n",
    "rag_chain = (\n",
    "    {\"context\": retriever | format_docs, \"question\": RunnablePassthrough()}\n",
    "    | prompt \n",
    "    | llm \n",
    "    | StrOutputParser()\n",
    ")"
   ]
  },
  {
   "cell_type": "code",
   "execution_count": 42,
   "metadata": {},
   "outputs": [
    {
     "data": {
      "text/plain": [
       "'To handle COVID-19, it is essential to establish effective patient flow at facilities, including screening, triage, and targeted referral of COVID-19 and non-COVID-19 cases. Additionally, reduce transmission by isolating cases from other patients (or at least cohorting), and minimize the number of staff caring for each patient.'"
      ]
     },
     "execution_count": 42,
     "metadata": {},
     "output_type": "execute_result"
    }
   ],
   "source": [
    "rag_chain.invoke(\"How to handle covid 19?\")"
   ]
  },
  {
   "cell_type": "code",
   "execution_count": 43,
   "metadata": {},
   "outputs": [
    {
     "data": {
      "text/plain": [
       "\"Based on the provided context, COVID-19 is a global pandemic caused by the coronavirus that has severe economic and financial consequences on people's lives. It has become more than just a health crisis for all countries with critical social, economic, and political consequences.\""
      ]
     },
     "execution_count": 43,
     "metadata": {},
     "output_type": "execute_result"
    }
   ],
   "source": [
    "rag_chain.invoke(\"What is covid 19?\")"
   ]
  },
  {
   "cell_type": "markdown",
   "metadata": {},
   "source": [
    "Thanks for reading 😀\n",
    "\n",
    "Let's connect [YouTube](http://youtube.com/tirendazacademy) | [Medium](http://tirendazacademy.medium.com) | [X](http://x.com/tirendazacademy) | [Linkedin](https://www.linkedin.com/in/tirendaz-academy) 😎"
   ]
  }
 ],
 "metadata": {
  "kernelspec": {
   "display_name": "genai",
   "language": "python",
   "name": "python3"
  },
  "language_info": {
   "codemirror_mode": {
    "name": "ipython",
    "version": 3
   },
   "file_extension": ".py",
   "mimetype": "text/x-python",
   "name": "python",
   "nbconvert_exporter": "python",
   "pygments_lexer": "ipython3",
   "version": "3.12.3"
  }
 },
 "nbformat": 4,
 "nbformat_minor": 2
}
